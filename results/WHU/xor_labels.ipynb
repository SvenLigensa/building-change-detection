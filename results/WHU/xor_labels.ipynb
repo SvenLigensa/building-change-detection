{
 "cells": [
  {
   "cell_type": "code",
   "execution_count": 9,
   "id": "0ee99eaf-533b-443b-8daf-eae68c0e5608",
   "metadata": {},
   "outputs": [],
   "source": [
    "import os\n",
    "import logging\n",
    "from PIL import Image\n",
    "import numpy as np\n",
    "\n",
    "# Configure logging\n",
    "logging.basicConfig(filename='file_processing.log', level=logging.INFO,\n",
    "                    format='%(asctime)s - %(levelname)s - %(message)s')"
   ]
  },
  {
   "cell_type": "code",
   "execution_count": 10,
   "id": "c0bee2b4-f66c-4455-aae9-18c99d78fbf0",
   "metadata": {},
   "outputs": [],
   "source": [
    "SOURCE_DIR_1 = \"A\"\n",
    "SOURCE_DIR_2 = \"B\"\n",
    "DEST_DIR = \"labels\""
   ]
  },
  {
   "cell_type": "code",
   "execution_count": 11,
   "id": "cfd79f98-f950-4be0-b092-f8814e11a7fa",
   "metadata": {},
   "outputs": [],
   "source": [
    "# Create output directory if it doesn't exist\n",
    "if not os.path.exists(DEST_DIR):\n",
    "    os.makedirs(DEST_DIR)\n",
    "\n",
    "files_a = {f for f in os.listdir(SOURCE_DIR_1) if f.endswith('.tif')}\n",
    "files_b = {f for f in os.listdir(SOURCE_DIR_2) if f.endswith('.tif')}\n",
    "\n",
    "# Ensure both directories contain the same files\n",
    "common_files = files_a & files_b\n",
    "if files_a != files_b:\n",
    "    missing_in_a = files_b - files_a\n",
    "    missing_in_b = files_a - files_b\n",
    "    if missing_in_a:\n",
    "        logging.error(f\"Files missing in directory A: {missing_in_a}\")\n",
    "    if missing_in_b:\n",
    "        logging.error(f\"Files missing in directory B: {missing_in_b}\")\n",
    "    raise FileNotFoundError(\"Mismatch between files in directories A and B.\")\n",
    "\n",
    "for filename in common_files:\n",
    "    file_a_path = os.path.join(SOURCE_DIR_1, filename)\n",
    "    file_b_path = os.path.join(SOURCE_DIR_2, filename)\n",
    "    try:\n",
    "        # Open the images\n",
    "        img_a = Image.open(file_a_path)\n",
    "        img_b = Image.open(file_b_path)\n",
    "\n",
    "        # Convert images to numpy arrays\n",
    "        arr_a = np.array(img_a)\n",
    "        arr_b = np.array(img_b)\n",
    "\n",
    "        # Check if both images have the same shape\n",
    "        if arr_a.shape != arr_b.shape:\n",
    "            logging.error(f\"Shape mismatch for file {filename}. Skipping this file.\")\n",
    "            continue\n",
    "\n",
    "        # Process the images\n",
    "        result = np.where((arr_a == 0) & (arr_b == 255) | (arr_a == 255) & (arr_b == 0), 255, 0)\n",
    "\n",
    "        # Convert result back to image\n",
    "        result_img = Image.fromarray(result.astype(np.uint8))\n",
    "\n",
    "        # Save the output image\n",
    "        output_file_path = os.path.join(DEST_DIR, filename)\n",
    "        result_img.save(output_file_path)\n",
    "\n",
    "        logging.info(f\"Processed file {filename}. Output saved to {output_file_path}.\")\n",
    "    except Exception as e:\n",
    "        logging.error(f\"Failed to process file {filename}: {e}\")"
   ]
  }
 ],
 "metadata": {
  "kernelspec": {
   "display_name": "Python 3 (ipykernel)",
   "language": "python",
   "name": "python3"
  },
  "language_info": {
   "codemirror_mode": {
    "name": "ipython",
    "version": 3
   },
   "file_extension": ".py",
   "mimetype": "text/x-python",
   "name": "python",
   "nbconvert_exporter": "python",
   "pygments_lexer": "ipython3",
   "version": "3.8.10"
  }
 },
 "nbformat": 4,
 "nbformat_minor": 5
}
